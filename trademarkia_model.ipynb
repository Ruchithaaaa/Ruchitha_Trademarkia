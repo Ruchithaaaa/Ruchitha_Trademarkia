{
 "cells": [
  {
   "cell_type": "code",
   "execution_count": 1,
   "metadata": {},
   "outputs": [],
   "source": [
    "import pandas as pd\n",
    "import numpy as np\n",
    "import matplotlib.pyplot as plt\n",
    "import seaborn as sns\n",
    "from sklearn import model_selection\n",
    "from sklearn.linear_model import LogisticRegression\n",
    "from sklearn.model_selection import train_test_split\n",
    "import json\n",
    "from sklearn.feature_extraction.text import TfidfVectorizer\n",
    "from sklearn.model_selection import train_test_split\n",
    "from sklearn.linear_model import LogisticRegression\n",
    "from sklearn.metrics import classification_report\n",
    "import nltk\n",
    "import re\n",
    "import string\n",
    "from sklearn.model_selection import train_test_split\n",
    "import seaborn as sns\n",
    "import os"
   ]
  },
  {
   "cell_type": "code",
   "execution_count": null,
   "metadata": {},
   "outputs": [],
   "source": []
  },
  {
   "cell_type": "code",
   "execution_count": 2,
   "metadata": {},
   "outputs": [],
   "source": [
    "df=pd.read_json(\"idmanual.json\")\n",
    "# df.head(50000)"
   ]
  },
  {
   "cell_type": "code",
   "execution_count": 3,
   "metadata": {},
   "outputs": [
    {
     "name": "stdout",
     "output_type": "stream",
     "text": [
      "<class 'pandas.core.frame.DataFrame'>\n",
      "RangeIndex: 58702 entries, 0 to 58701\n",
      "Data columns (total 4 columns):\n",
      " #   Column       Non-Null Count  Dtype \n",
      "---  ------       --------------  ----- \n",
      " 0   id_tx        58702 non-null  object\n",
      " 1   class_id     58702 non-null  object\n",
      " 2   description  58702 non-null  object\n",
      " 3   status       58702 non-null  object\n",
      "dtypes: object(4)\n",
      "memory usage: 1.8+ MB\n"
     ]
    },
    {
     "data": {
      "text/plain": [
       "(58702, 4)"
      ]
     },
     "execution_count": 3,
     "metadata": {},
     "output_type": "execute_result"
    }
   ],
   "source": [
    "df.info()\n",
    "df.shape"
   ]
  },
  {
   "cell_type": "code",
   "execution_count": null,
   "metadata": {},
   "outputs": [],
   "source": [
    "df.describe()"
   ]
  },
  {
   "cell_type": "code",
   "execution_count": null,
   "metadata": {
    "scrolled": true
   },
   "outputs": [],
   "source": [
    "from sklearn.feature_selection import SelectKBest\n",
    "from sklearn.feature_selection import chi2\n",
    "X= df.iloc[:,2:4]   \n",
    "Y= df.iloc[:,1]\n",
    "print(X)"
   ]
  },
  {
   "cell_type": "code",
   "execution_count": null,
   "metadata": {},
   "outputs": [],
   "source": [
    "with open('idmanual.json', 'r') as file:\n",
    "    data = json.load(file)\n",
    "texts = []  # List to store the text data\n",
    "labels = []  # List to store the class labels\n",
    "a\n",
    "for item in data:\n",
    "    texts.append(item['description'])\n",
    "    labels.append(item['class_id'])\n",
    "\n",
    "vectorizer = TfidfVectorizer()\n",
    "X_train = vectorizer.fit_transform(texts)\n",
    "# X_test = vectorizer.transform(labels)\n",
    "print(X_train)\n",
    "    \n",
    "best_features= SelectKBest(score_func=chi2, k=3)\n",
    "fit= best_features.fit(X_train,Y)"
   ]
  },
  {
   "cell_type": "code",
   "execution_count": 7,
   "metadata": {},
   "outputs": [],
   "source": [
    "# df_scores= pd.DataFrame(fit.scores_)\n",
    "# df_columns= pd.DataFrame(X.columns)"
   ]
  },
  {
   "cell_type": "code",
   "execution_count": 8,
   "metadata": {},
   "outputs": [],
   "source": [
    "# features_scores= pd.concat([df_columns, df_scores], axis=1)\n",
    "# features_scores.columns= ['Features', 'Score']\n",
    "# features_scores.sort_values(by = 'Score')"
   ]
  },
  {
   "cell_type": "code",
   "execution_count": 9,
   "metadata": {},
   "outputs": [],
   "source": [
    "X= X_train  \n",
    "Y= df['class_id']"
   ]
  },
  {
   "cell_type": "code",
   "execution_count": 10,
   "metadata": {},
   "outputs": [],
   "source": [
    "X_train,X_test,y_train,y_test=train_test_split(X,Y,test_size=0.4,random_state=100)"
   ]
  },
  {
   "cell_type": "code",
   "execution_count": 34,
   "metadata": {
    "scrolled": true
   },
   "outputs": [
    {
     "data": {
      "text/plain": [
       "LinearSVC(C=1.0, class_weight=None, dual=True, fit_intercept=True,\n",
       "          intercept_scaling=1, loss='squared_hinge', max_iter=1000,\n",
       "          multi_class='ovr', penalty='l2', random_state=None, tol=0.0001,\n",
       "          verbose=0)"
      ]
     },
     "execution_count": 34,
     "metadata": {},
     "output_type": "execute_result"
    }
   ],
   "source": [
    "from sklearn.svm import LinearSVC\n",
    "logreg = LinearSVC()\n",
    "logreg.fit(X_train,y_train)"
   ]
  },
  {
   "cell_type": "code",
   "execution_count": 35,
   "metadata": {},
   "outputs": [
    {
     "name": "stdout",
     "output_type": "stream",
     "text": [
      "  (0, 129)\t0.5434313099241833\n",
      "  (0, 2286)\t0.33743207276158127\n",
      "  (0, 15969)\t0.41667944899018755\n",
      "  (0, 8153)\t0.2869514496582065\n",
      "  (0, 12528)\t0.25714192035944156\n",
      "  (0, 1293)\t0.5183986330885291\n",
      "  (1, 1447)\t0.6178679929693002\n",
      "  (1, 388)\t0.454292454614376\n",
      "  (1, 12635)\t0.3369401220731519\n",
      "  (1, 9755)\t0.3492877004040288\n",
      "  (1, 10651)\t0.38186294629882034\n",
      "  (1, 6459)\t0.1746644087165818\n",
      "  (2, 11637)\t0.6342810287306804\n",
      "  (2, 10928)\t0.5279632922379266\n",
      "  (2, 14154)\t0.2329999904948517\n",
      "  (2, 9482)\t0.5144446938894781\n",
      "  (3, 12424)\t0.6099309650864065\n",
      "  (3, 4958)\t0.5626728496449854\n",
      "  (3, 9526)\t0.4033026857244038\n",
      "  (3, 3524)\t0.34918025204096537\n",
      "  (3, 6459)\t0.16371798121540276\n",
      "  (4, 12598)\t0.7532468027157414\n",
      "  (4, 2264)\t0.6577379829373646\n",
      "  (5, 11931)\t0.4585974565969052\n",
      "  (5, 8139)\t0.46547613211382177\n",
      "  :\t:\n",
      "  (23478, 13006)\t0.23236336497485743\n",
      "  (23478, 3578)\t0.19238468103046855\n",
      "  (23478, 14154)\t0.11025897855255777\n",
      "  (23478, 15011)\t0.2483568803965428\n",
      "  (23478, 194)\t0.23955017708461426\n",
      "  (23478, 2545)\t0.1964750681240543\n",
      "  (23478, 5753)\t0.42634706368957903\n",
      "  (23478, 922)\t0.21448157499498194\n",
      "  (23478, 5305)\t0.20428407583602967\n",
      "  (23478, 5584)\t0.1923013369847185\n",
      "  (23478, 2945)\t0.20161140463887064\n",
      "  (23478, 16493)\t0.20615618388819243\n",
      "  (23478, 12426)\t0.19628587421954638\n",
      "  (23478, 8035)\t0.10835546032748425\n",
      "  (23478, 6026)\t0.17079247960169233\n",
      "  (23478, 10388)\t0.11841789889285449\n",
      "  (23478, 612)\t0.17973367216069094\n",
      "  (23478, 6459)\t0.07185078402293373\n",
      "  (23479, 11244)\t0.636667423150308\n",
      "  (23479, 14563)\t0.5879327429042618\n",
      "  (23479, 4936)\t0.4802529166202203\n",
      "  (23479, 6459)\t0.13545042708677404\n",
      "  (23480, 4059)\t0.6747490373137135\n",
      "  (23480, 13837)\t0.5542970166776432\n",
      "  (23480, 1720)\t0.48730745320226865\n",
      "['044' '020' '035' ... '041' '012' '008']\n"
     ]
    }
   ],
   "source": [
    "y_pred=logreg.predict(X_test)\n",
    "print (X_test) #test dataset\n",
    "print (y_pred)"
   ]
  },
  {
   "cell_type": "code",
   "execution_count": 36,
   "metadata": {
    "scrolled": true
   },
   "outputs": [
    {
     "name": "stdout",
     "output_type": "stream",
     "text": [
      "Accuracy:  0.814403134449129\n"
     ]
    },
    {
     "name": "stderr",
     "output_type": "stream",
     "text": [
      "C:\\Users\\RUCHITHA\\anaconda3\\lib\\site-packages\\sklearn\\metrics\\_classification.py:1272: UndefinedMetricWarning: Recall and F-score are ill-defined and being set to 0.0 in labels with no true samples. Use `zero_division` parameter to control this behavior.\n",
      "  _warn_prf(average, modifier, msg_start, len(result))\n"
     ]
    },
    {
     "name": "stdout",
     "output_type": "stream",
     "text": [
      "CL Report:               precision    recall  f1-score   support\n",
      "\n",
      "         000       1.00      0.85      0.92        20\n",
      "         001       0.78      0.72      0.75       809\n",
      "         002       0.87      0.79      0.82       257\n",
      "         003       0.84      0.82      0.83       660\n",
      "         004       0.74      0.75      0.75       206\n",
      "         005       0.86      0.78      0.81       867\n",
      "         006       0.87      0.89      0.88       667\n",
      "         007       0.83      0.84      0.84       952\n",
      "         008       0.85      0.77      0.81       394\n",
      "         009       0.69      0.88      0.77      2217\n",
      "         010       0.78      0.77      0.77       731\n",
      "         011       0.81      0.79      0.80       642\n",
      "         012       0.85      0.87      0.86       610\n",
      "         013       0.81      0.80      0.81       159\n",
      "         014       0.85      0.72      0.78       223\n",
      "         015       0.92      0.74      0.82       162\n",
      "         016       0.83      0.87      0.85      1117\n",
      "         017       0.79      0.75      0.77       306\n",
      "         018       0.83      0.76      0.79       343\n",
      "         019       0.79      0.81      0.80       450\n",
      "         020       0.71      0.70      0.70       598\n",
      "         021       0.77      0.74      0.76       833\n",
      "         022       0.75      0.50      0.60       172\n",
      "         023       0.89      0.93      0.91        54\n",
      "         024       0.80      0.75      0.77       245\n",
      "         025       0.84      0.80      0.82       561\n",
      "         026       0.85      0.73      0.79       229\n",
      "         027       0.79      0.79      0.79        92\n",
      "         028       0.81      0.84      0.83       803\n",
      "         029       0.82      0.85      0.83       675\n",
      "         030       0.82      0.77      0.79       706\n",
      "         031       0.88      0.88      0.88       330\n",
      "         032       0.86      0.85      0.86       213\n",
      "         033       0.86      0.74      0.79       122\n",
      "         034       0.88      0.96      0.92       116\n",
      "         035       0.86      0.88      0.87       940\n",
      "         036       0.89      0.88      0.88       457\n",
      "         037       0.91      0.91      0.91       989\n",
      "         038       0.89      0.87      0.88       231\n",
      "         039       0.81      0.81      0.81       318\n",
      "         040       0.80      0.67      0.73       349\n",
      "         041       0.86      0.86      0.86       789\n",
      "         042       0.86      0.83      0.85       813\n",
      "         043       0.88      0.75      0.81       232\n",
      "         044       0.80      0.78      0.79       481\n",
      "         045       0.80      0.75      0.77       338\n",
      "         200       0.00      0.00      0.00         1\n",
      "           A       0.00      0.00      0.00         0\n",
      "           B       0.00      0.00      0.00         2\n",
      "\n",
      "    accuracy                           0.81     23481\n",
      "   macro avg       0.78      0.75      0.76     23481\n",
      "weighted avg       0.82      0.81      0.81     23481\n",
      "\n"
     ]
    }
   ],
   "source": [
    "from sklearn import metrics\n",
    "from sklearn.metrics import classification_report\n",
    "print('Accuracy: ',metrics.accuracy_score(y_test, y_pred))\n",
    "# print('Recall: ',metrics.recall_score(y_test, y_pred, zero_division=1))\n",
    "# print('Precision:',metrics.precision_score(y_test, y_pred))\n",
    "print('CL Report:',metrics.classification_report(y_test, y_pred))"
   ]
  },
  {
   "cell_type": "code",
   "execution_count": null,
   "metadata": {},
   "outputs": [],
   "source": []
  },
  {
   "cell_type": "code",
   "execution_count": null,
   "metadata": {},
   "outputs": [],
   "source": []
  },
  {
   "cell_type": "code",
   "execution_count": null,
   "metadata": {},
   "outputs": [],
   "source": []
  },
  {
   "cell_type": "code",
   "execution_count": null,
   "metadata": {},
   "outputs": [],
   "source": []
  },
  {
   "cell_type": "code",
   "execution_count": null,
   "metadata": {},
   "outputs": [],
   "source": []
  },
  {
   "cell_type": "code",
   "execution_count": null,
   "metadata": {},
   "outputs": [],
   "source": []
  }
 ],
 "metadata": {
  "kernelspec": {
   "display_name": "Python 3",
   "language": "python",
   "name": "python3"
  },
  "language_info": {
   "codemirror_mode": {
    "name": "ipython",
    "version": 3
   },
   "file_extension": ".py",
   "mimetype": "text/x-python",
   "name": "python",
   "nbconvert_exporter": "python",
   "pygments_lexer": "ipython3",
   "version": "3.7.6"
  }
 },
 "nbformat": 4,
 "nbformat_minor": 5
}
